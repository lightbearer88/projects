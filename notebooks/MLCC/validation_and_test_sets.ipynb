{
 "cells": [
  {
   "cell_type": "code",
   "execution_count": 0,
   "metadata": {
    "cellView": "form",
    "colab": {},
    "colab_type": "code",
    "id": "hMqWDc_m6rUC"
   },
   "outputs": [],
   "source": [
    "#@title Copyright 2020 Google LLC. Double-click here for license information.\n",
    "# Licensed under the Apache License, Version 2.0 (the \"License\");\n",
    "# you may not use this file except in compliance with the License.\n",
    "# You may obtain a copy of the License at\n",
    "#\n",
    "# https://www.apache.org/licenses/LICENSE-2.0\n",
    "#\n",
    "# Unless required by applicable law or agreed to in writing, software\n",
    "# distributed under the License is distributed on an \"AS IS\" BASIS,\n",
    "# WITHOUT WARRANTIES OR CONDITIONS OF ANY KIND, either express or implied.\n",
    "# See the License for the specific language governing permissions and\n",
    "# limitations under the License."
   ]
  },
  {
   "cell_type": "markdown",
   "metadata": {
    "colab_type": "text",
    "id": "4f3CKqFUqL2-"
   },
   "source": [
    "# Validation Sets and Test Sets\n",
    "\n",
    "The previous Colab exercises evaluated the trained model against the training set, which does not provide a strong signal about the quality of your model. In this Colab, you'll experiment with validation sets and test sets.\n",
    "\n",
    "\n",
    "\n",
    "\n"
   ]
  },
  {
   "cell_type": "markdown",
   "metadata": {
    "colab_type": "text",
    "id": "3spZH_kNkWWX"
   },
   "source": [
    "## Learning objectives\n",
    "\n",
    "After doing this Colab, you'll know how to do the following:\n",
    "\n",
    "  * Split a [training set](https://developers.google.com/machine-learning/glossary/#training_set) into a smaller training set and a [validation set](https://developers.google.com/machine-learning/glossary/#validation_set).\n",
    "  * Analyze deltas between training set and validation set results.\n",
    "  * Test the trained model with a [test set](https://developers.google.com/machine-learning/glossary/#test_set) to determine whether your trained model is [overfitting](https://developers.google.com/machine-learning/glossary/#overfitting).\n",
    "  * Detect and fix a common training problem."
   ]
  },
  {
   "cell_type": "markdown",
   "metadata": {
    "colab_type": "text",
    "id": "gV82DJO3kWpk"
   },
   "source": [
    "## The dataset\n",
    "\n",
    "As in the previous exercise, this exercise uses the [California Housing dataset](https://developers.google.com/machine-learning/crash-course/california-housing-data-description) to predict the `median_house_value` at the city block level.  Like many \"famous\" datasets, the California Housing Dataset actually consists of two separate datasets, each living in separate .csv files:\n",
    "\n",
    "* The training set is in `california_housing_train.csv`.\n",
    "* The test set is in `california_housing_test.csv`.\n",
    "\n",
    "You'll create the validation set by dividing the downloaded training set into two parts:\n",
    "\n",
    "* a smaller training set  \n",
    "* a validation set"
   ]
  },
  {
   "cell_type": "markdown",
   "metadata": {
    "colab_type": "text",
    "id": "u84mXopntPFZ"
   },
   "source": [
    "## Use the right version of TensorFlow\n",
    "\n",
    "The following hidden code cell ensures that the Colab will run on TensorFlow 2.X."
   ]
  },
  {
   "cell_type": "code",
   "execution_count": 0,
   "metadata": {
    "cellView": "form",
    "colab": {},
    "colab_type": "code",
    "id": "FBhNIdUatOU6"
   },
   "outputs": [],
   "source": [
    "#@title Run on TensorFlow 2.x\n",
    "%tensorflow_version 2.x"
   ]
  },
  {
   "cell_type": "markdown",
   "metadata": {
    "colab_type": "text",
    "id": "S8gm6BpqRRuh"
   },
   "source": [
    "## Import relevant modules\n",
    "\n",
    "As before, this first code cell imports the necessary modules and sets a few display options."
   ]
  },
  {
   "cell_type": "code",
   "execution_count": 1,
   "metadata": {
    "cellView": "form",
    "colab": {},
    "colab_type": "code",
    "id": "9D8GgUovHbG0"
   },
   "outputs": [],
   "source": [
    "#@title Import modules\n",
    "import numpy as np\n",
    "import pandas as pd\n",
    "import tensorflow as tf\n",
    "from matplotlib import pyplot as plt\n",
    "\n",
    "pd.options.display.max_rows = 10\n",
    "pd.options.display.float_format = \"{:.1f}\".format"
   ]
  },
  {
   "cell_type": "markdown",
   "metadata": {
    "colab_type": "text",
    "id": "xjvrrClQeAJu"
   },
   "source": [
    "## Load the datasets from the internet\n",
    "\n",
    "The following code cell loads the separate .csv files and creates the following two pandas DataFrames:\n",
    "\n",
    "* `train_df`, which contains the training set.\n",
    "* `test_df`, which contains the test set.\n",
    "\n"
   ]
  },
  {
   "cell_type": "code",
   "execution_count": 2,
   "metadata": {
    "colab": {},
    "colab_type": "code",
    "id": "zUnTc_wfd_o3"
   },
   "outputs": [],
   "source": [
    "train_df = pd.read_csv(\"https://download.mlcc.google.com/mledu-datasets/california_housing_train.csv\")\n",
    "test_df = pd.read_csv(\"https://download.mlcc.google.com/mledu-datasets/california_housing_test.csv\")"
   ]
  },
  {
   "cell_type": "markdown",
   "metadata": {
    "colab_type": "text",
    "id": "P_KBdj2M_yjM"
   },
   "source": [
    "## Scale the label values\n",
    "\n",
    "The following code cell scales the `median_house_value`. \n",
    "See the previous Colab exercise for details."
   ]
  },
  {
   "cell_type": "code",
   "execution_count": 3,
   "metadata": {
    "colab": {},
    "colab_type": "code",
    "id": "3hc7QQhaAFXD"
   },
   "outputs": [],
   "source": [
    "scale_factor = 1000.0\n",
    "\n",
    "# Scale the training set's label.\n",
    "train_df[\"median_house_value\"] /= scale_factor \n",
    "\n",
    "# Scale the test set's label\n",
    "test_df[\"median_house_value\"] /= scale_factor"
   ]
  },
  {
   "cell_type": "markdown",
   "metadata": {
    "colab_type": "text",
    "id": "FhessIIV8VPc"
   },
   "source": [
    "## Load the functions that build and train a model\n",
    "\n",
    "The following code cell defines two functions:\n",
    "\n",
    "  * `build_model`, which defines the model's topography.\n",
    "  * `train_model`, which will ultimately train the model, outputting not only the loss value for the training set but also the loss value for the validation set. \n",
    "\n",
    "Since you don't need to understand model building code right now, we've hidden this code cell. As always, you must run hidden code cells."
   ]
  },
  {
   "cell_type": "code",
   "execution_count": 4,
   "metadata": {
    "cellView": "form",
    "colab": {},
    "colab_type": "code",
    "id": "bvonhK857msj"
   },
   "outputs": [
    {
     "name": "stdout",
     "output_type": "stream",
     "text": [
      "Defined the build_model and train_model functions.\n"
     ]
    }
   ],
   "source": [
    "#@title Define the functions that build and train a model\n",
    "def build_model(my_learning_rate):\n",
    "  \"\"\"Create and compile a simple linear regression model.\"\"\"\n",
    "  # Most simple tf.keras models are sequential.\n",
    "  model = tf.keras.models.Sequential()\n",
    "\n",
    "  # Add one linear layer to the model to yield a simple linear regressor.\n",
    "  model.add(tf.keras.layers.Dense(units=1, input_shape=(1,)))\n",
    "\n",
    "  # Compile the model topography into code that TensorFlow can efficiently\n",
    "  # execute. Configure training to minimize the model's mean squared error. \n",
    "  model.compile(optimizer=tf.keras.optimizers.RMSprop(lr=my_learning_rate),\n",
    "                loss=\"mean_squared_error\",\n",
    "                metrics=[tf.keras.metrics.RootMeanSquaredError()])\n",
    "\n",
    "  return model               \n",
    "\n",
    "\n",
    "def train_model(model, df, feature, label, my_epochs, \n",
    "                my_batch_size=None, my_validation_split=0.1):\n",
    "  \"\"\"Feed a dataset into the model in order to train it.\"\"\"\n",
    "\n",
    "  history = model.fit(x=df[feature],\n",
    "                      y=df[label],\n",
    "                      batch_size=my_batch_size,\n",
    "                      epochs=my_epochs,\n",
    "                      validation_split=my_validation_split)\n",
    "\n",
    "  # Gather the model's trained weight and bias.\n",
    "  trained_weight = model.get_weights()[0]\n",
    "  trained_bias = model.get_weights()[1]\n",
    "\n",
    "  # The list of epochs is stored separately from the \n",
    "  # rest of history.\n",
    "  epochs = history.epoch\n",
    "  \n",
    "  # Isolate the root mean squared error for each epoch.\n",
    "  hist = pd.DataFrame(history.history)\n",
    "  rmse = hist[\"root_mean_squared_error\"]\n",
    "\n",
    "  return epochs, rmse, history.history   \n",
    "\n",
    "print(\"Defined the build_model and train_model functions.\")"
   ]
  },
  {
   "cell_type": "markdown",
   "metadata": {
    "colab_type": "text",
    "id": "8gRu4Ri0D8tH"
   },
   "source": [
    "## Define plotting functions\n",
    "\n",
    "The `plot_the_loss_curve` function plots loss vs. epochs for both the training set and the validation set."
   ]
  },
  {
   "cell_type": "code",
   "execution_count": 5,
   "metadata": {
    "cellView": "form",
    "colab": {},
    "colab_type": "code",
    "id": "QA7hsqPZDvVM"
   },
   "outputs": [
    {
     "name": "stdout",
     "output_type": "stream",
     "text": [
      "Defined the plot_the_loss_curve function.\n"
     ]
    }
   ],
   "source": [
    "#@title Define the plotting function\n",
    "\n",
    "def plot_the_loss_curve(epochs, mae_training, mae_validation):\n",
    "  \"\"\"Plot a curve of loss vs. epoch.\"\"\"\n",
    "\n",
    "  plt.figure()\n",
    "  plt.xlabel(\"Epoch\")\n",
    "  plt.ylabel(\"Root Mean Squared Error\")\n",
    "\n",
    "  plt.plot(epochs[1:], mae_training[1:], label=\"Training Loss\")\n",
    "  plt.plot(epochs[1:], mae_validation[1:], label=\"Validation Loss\")\n",
    "  plt.legend()\n",
    "  \n",
    "  # We're not going to plot the first epoch, since the loss on the first epoch\n",
    "  # is often substantially greater than the loss for other epochs.\n",
    "  merged_mae_lists = mae_training[1:] + mae_validation[1:]\n",
    "  highest_loss = max(merged_mae_lists)\n",
    "  lowest_loss = min(merged_mae_lists)\n",
    "  delta = highest_loss - lowest_loss\n",
    "  print(delta)\n",
    "\n",
    "  top_of_y_axis = highest_loss + (delta * 0.05)\n",
    "  bottom_of_y_axis = lowest_loss - (delta * 0.05)\n",
    "   \n",
    "  plt.ylim([bottom_of_y_axis, top_of_y_axis])\n",
    "  plt.show()  \n",
    "\n",
    "print(\"Defined the plot_the_loss_curve function.\")"
   ]
  },
  {
   "cell_type": "markdown",
   "metadata": {
    "colab_type": "text",
    "id": "jipBqEQXlsN8"
   },
   "source": [
    "## Task 1: Experiment with the validation split\n",
    "\n",
    "In the following code cell, you'll see a variable named `validation_split`, which we've initialized at 0.2.  The `validation_split` variable specifies the proportion of the original training set that will serve as the validation set. The original training set contains 17,000 examples. Therefore, a `validation_split` of 0.2 means that:\n",
    "\n",
    "* 17,000 * 0.2 ~= 3,400 examples will become the validation set.\n",
    "* 17,000 * 0.8 ~= 13,600 examples will become the new training set.\n",
    "\n",
    "The following code builds a model, trains it on the training set, and evaluates the built model on both:\n",
    "\n",
    "* The training set.\n",
    "* And the validation set.\n",
    "\n",
    "If the data in the training set is similar to the data in the validation set, then the two loss curves and the final loss values should be almost identical. However, the loss curves and final loss values are **not** almost identical. Hmm, that's odd.  \n",
    "\n",
    "Experiment with two or three different values of `validation_split`.  Do different values of `validation_split` fix the problem? \n"
   ]
  },
  {
   "cell_type": "code",
   "execution_count": 7,
   "metadata": {
    "colab": {},
    "colab_type": "code",
    "id": "knP23Taoa00a"
   },
   "outputs": [
    {
     "name": "stdout",
     "output_type": "stream",
     "text": [
      "Epoch 1/30\n",
      "85/85 [==============================] - 0s 2ms/step - loss: 50223.2500 - root_mean_squared_error: 224.1054 - val_loss: 40107.2656 - val_root_mean_squared_error: 200.2680\n",
      "Epoch 2/30\n",
      "85/85 [==============================] - 0s 2ms/step - loss: 36766.6680 - root_mean_squared_error: 191.7464 - val_loss: 28676.5508 - val_root_mean_squared_error: 169.3415\n",
      "Epoch 3/30\n",
      "85/85 [==============================] - 0s 2ms/step - loss: 26071.9512 - root_mean_squared_error: 161.4681 - val_loss: 19779.2793 - val_root_mean_squared_error: 140.6388\n",
      "Epoch 4/30\n",
      "85/85 [==============================] - 0s 1ms/step - loss: 17739.5176 - root_mean_squared_error: 133.1898 - val_loss: 13262.7217 - val_root_mean_squared_error: 115.1639\n",
      "Epoch 5/30\n",
      "85/85 [==============================] - 0s 2ms/step - loss: 11864.6572 - root_mean_squared_error: 108.9250 - val_loss: 9149.0518 - val_root_mean_squared_error: 95.6507\n",
      "Epoch 6/30\n",
      "85/85 [==============================] - 0s 2ms/step - loss: 8345.0303 - root_mean_squared_error: 91.3511 - val_loss: 7315.5557 - val_root_mean_squared_error: 85.5310\n",
      "Epoch 7/30\n",
      "85/85 [==============================] - 0s 2ms/step - loss: 6979.3291 - root_mean_squared_error: 83.5424 - val_loss: 7190.2368 - val_root_mean_squared_error: 84.7953\n",
      "Epoch 8/30\n",
      "85/85 [==============================] - 0s 2ms/step - loss: 6847.3184 - root_mean_squared_error: 82.7485 - val_loss: 7190.9561 - val_root_mean_squared_error: 84.7995\n",
      "Epoch 9/30\n",
      "85/85 [==============================] - 0s 2ms/step - loss: 6837.8726 - root_mean_squared_error: 82.6914 - val_loss: 7241.3843 - val_root_mean_squared_error: 85.0963\n",
      "Epoch 10/30\n",
      "85/85 [==============================] - 0s 2ms/step - loss: 6829.3960 - root_mean_squared_error: 82.6402 - val_loss: 7246.4492 - val_root_mean_squared_error: 85.1261\n",
      "Epoch 11/30\n",
      "85/85 [==============================] - 0s 2ms/step - loss: 6822.1001 - root_mean_squared_error: 82.5960 - val_loss: 7246.0752 - val_root_mean_squared_error: 85.1239\n",
      "Epoch 12/30\n",
      "85/85 [==============================] - 0s 2ms/step - loss: 6816.8223 - root_mean_squared_error: 82.5640 - val_loss: 7261.7725 - val_root_mean_squared_error: 85.2160\n",
      "Epoch 13/30\n",
      "85/85 [==============================] - 0s 1ms/step - loss: 6811.2661 - root_mean_squared_error: 82.5304 - val_loss: 7299.7544 - val_root_mean_squared_error: 85.4386\n",
      "Epoch 14/30\n",
      "85/85 [==============================] - 0s 1ms/step - loss: 6807.9785 - root_mean_squared_error: 82.5105 - val_loss: 7287.6963 - val_root_mean_squared_error: 85.3680\n",
      "Epoch 15/30\n",
      "85/85 [==============================] - 0s 2ms/step - loss: 6805.8677 - root_mean_squared_error: 82.4977 - val_loss: 7302.6514 - val_root_mean_squared_error: 85.4556\n",
      "Epoch 16/30\n",
      "85/85 [==============================] - 0s 2ms/step - loss: 6803.4785 - root_mean_squared_error: 82.4832 - val_loss: 7320.2397 - val_root_mean_squared_error: 85.5584\n",
      "Epoch 17/30\n",
      "85/85 [==============================] - 0s 1ms/step - loss: 6802.9746 - root_mean_squared_error: 82.4801 - val_loss: 7311.7290 - val_root_mean_squared_error: 85.5087\n",
      "Epoch 18/30\n",
      "85/85 [==============================] - 0s 2ms/step - loss: 6799.4429 - root_mean_squared_error: 82.4587 - val_loss: 7298.7852 - val_root_mean_squared_error: 85.4329\n",
      "Epoch 19/30\n",
      "85/85 [==============================] - 0s 2ms/step - loss: 6799.2031 - root_mean_squared_error: 82.4573 - val_loss: 7315.8354 - val_root_mean_squared_error: 85.5327\n",
      "Epoch 20/30\n",
      "85/85 [==============================] - 0s 1ms/step - loss: 6797.8994 - root_mean_squared_error: 82.4494 - val_loss: 7342.7495 - val_root_mean_squared_error: 85.6898\n",
      "Epoch 21/30\n",
      "85/85 [==============================] - 0s 1ms/step - loss: 6796.7832 - root_mean_squared_error: 82.4426 - val_loss: 7317.4834 - val_root_mean_squared_error: 85.5423\n",
      "Epoch 22/30\n",
      "85/85 [==============================] - 0s 2ms/step - loss: 6797.9077 - root_mean_squared_error: 82.4494 - val_loss: 7350.7930 - val_root_mean_squared_error: 85.7368\n",
      "Epoch 23/30\n",
      "85/85 [==============================] - 0s 2ms/step - loss: 6797.3008 - root_mean_squared_error: 82.4457 - val_loss: 7346.9746 - val_root_mean_squared_error: 85.7145\n",
      "Epoch 24/30\n",
      "85/85 [==============================] - 0s 1ms/step - loss: 6796.9663 - root_mean_squared_error: 82.4437 - val_loss: 7365.9287 - val_root_mean_squared_error: 85.8250\n",
      "Epoch 25/30\n",
      "85/85 [==============================] - 0s 1ms/step - loss: 6795.1055 - root_mean_squared_error: 82.4324 - val_loss: 7344.6689 - val_root_mean_squared_error: 85.7010\n",
      "Epoch 26/30\n",
      "85/85 [==============================] - 0s 2ms/step - loss: 6794.4888 - root_mean_squared_error: 82.4287 - val_loss: 7381.9170 - val_root_mean_squared_error: 85.9181\n",
      "Epoch 27/30\n",
      "85/85 [==============================] - 0s 1ms/step - loss: 6795.2178 - root_mean_squared_error: 82.4331 - val_loss: 7393.1289 - val_root_mean_squared_error: 85.9833\n",
      "Epoch 28/30\n",
      "85/85 [==============================] - 0s 1ms/step - loss: 6795.8394 - root_mean_squared_error: 82.4369 - val_loss: 7375.3511 - val_root_mean_squared_error: 85.8799\n",
      "Epoch 29/30\n",
      "85/85 [==============================] - 0s 1ms/step - loss: 6794.6460 - root_mean_squared_error: 82.4296 - val_loss: 7402.4434 - val_root_mean_squared_error: 86.0375\n",
      "Epoch 30/30\n",
      "85/85 [==============================] - 0s 2ms/step - loss: 6793.3936 - root_mean_squared_error: 82.4220 - val_loss: 7346.7202 - val_root_mean_squared_error: 85.7130\n",
      "109.32432556152344\n"
     ]
    },
    {
     "data": {
      "image/png": "[encoded data removed]",
      "text/plain": [
       "<Figure size 432x288 with 1 Axes>"
      ]
     },
     "metadata": {
      "needs_background": "light"
     },
     "output_type": "display_data"
    }
   ],
   "source": [
    "# The following variables are the hyperparameters.\n",
    "learning_rate = 0.08\n",
    "epochs = 30\n",
    "batch_size = 100\n",
    "\n",
    "# Split the original training set into a reduced training set and a\n",
    "# validation set. \n",
    "validation_split=0.5\n",
    "\n",
    "# Identify the feature and the label.\n",
    "my_feature=\"median_income\"  # the median income on a specific city block.\n",
    "my_label=\"median_house_value\" # the median value of a house on a specific city block.\n",
    "# That is, you're going to create a model that predicts house value based \n",
    "# solely on the neighborhood's median income.  \n",
    "\n",
    "# Discard any pre-existing version of the model.\n",
    "my_model = None\n",
    "\n",
    "# Invoke the functions to build and train the model.\n",
    "my_model = build_model(learning_rate)\n",
    "epochs, rmse, history = train_model(my_model, train_df, my_feature, \n",
    "                                    my_label, epochs, batch_size, \n",
    "                                    validation_split)\n",
    "\n",
    "plot_the_loss_curve(epochs, history[\"root_mean_squared_error\"], \n",
    "                    history[\"val_root_mean_squared_error\"])"
   ]
  },
  {
   "cell_type": "markdown",
   "metadata": {
    "colab_type": "text",
    "id": "TKa11JK4Pm3f"
   },
   "source": [
    "## Task 2: Determine **why** the loss curves differ\n",
    "\n",
    "No matter how you split the training set and the validation set, the loss curves differ significantly. Evidently, the data in the training set isn't similar enough to the data in the validation set. Counterintuitive? Yes, but this problem is actually pretty common in machine learning. \n",
    "\n",
    "Your task is to determine **why** the loss curves aren't highly similar. As with most issues in machine learning, the problem is rooted in the data itself. To solve this mystery of why the training set and validation set aren't almost identical, write a line or two of [pandas code](https://colab.research.google.com/drive/1gUeYFsYmoyqpQJWq7krrZZNUFvBPwrJf) in the following code cell.  Here are a couple of hints:\n",
    "\n",
    "  * The previous code cell split the original training set into:\n",
    "    * a reduced training set (the original training set - the validation set)\n",
    "    * the validation set \n",
    "  * By default, the pandas [`head`](https://pandas.pydata.org/pandas-docs/stable/reference/api/pandas.DataFrame.head.html) method outputs the *first* 5 rows of the DataFrame. To see more of the training set, specify the `n` argument to `head` and assign a large positive integer to `n`."
   ]
  },
  {
   "cell_type": "code",
   "execution_count": 9,
   "metadata": {
    "colab": {},
    "colab_type": "code",
    "id": "VJQcAZkwJt_p"
   },
   "outputs": [
    {
     "data": {
      "text/html": [
       "<div>\n",
       "<style scoped>\n",
       "    .dataframe tbody tr th:only-of-type {\n",
       "        vertical-align: middle;\n",
       "    }\n",
       "\n",
       "    .dataframe tbody tr th {\n",
       "        vertical-align: top;\n",
       "    }\n",
       "\n",
       "    .dataframe thead th {\n",
       "        text-align: right;\n",
       "    }\n",
       "</style>\n",
       "<table border=\"1\" class=\"dataframe\">\n",
       "  <thead>\n",
       "    <tr style=\"text-align: right;\">\n",
       "      <th></th>\n",
       "      <th>longitude</th>\n",
       "      <th>latitude</th>\n",
       "      <th>housing_median_age</th>\n",
       "      <th>total_rooms</th>\n",
       "      <th>total_bedrooms</th>\n",
       "      <th>population</th>\n",
       "      <th>households</th>\n",
       "      <th>median_income</th>\n",
       "      <th>median_house_value</th>\n",
       "    </tr>\n",
       "  </thead>\n",
       "  <tbody>\n",
       "    <tr>\n",
       "      <th>0</th>\n",
       "      <td>-114.3</td>\n",
       "      <td>34.2</td>\n",
       "      <td>15.0</td>\n",
       "      <td>5612.0</td>\n",
       "      <td>1283.0</td>\n",
       "      <td>1015.0</td>\n",
       "      <td>472.0</td>\n",
       "      <td>1.5</td>\n",
       "      <td>66.9</td>\n",
       "    </tr>\n",
       "    <tr>\n",
       "      <th>1</th>\n",
       "      <td>-114.5</td>\n",
       "      <td>34.4</td>\n",
       "      <td>19.0</td>\n",
       "      <td>7650.0</td>\n",
       "      <td>1901.0</td>\n",
       "      <td>1129.0</td>\n",
       "      <td>463.0</td>\n",
       "      <td>1.8</td>\n",
       "      <td>80.1</td>\n",
       "    </tr>\n",
       "    <tr>\n",
       "      <th>2</th>\n",
       "      <td>-114.6</td>\n",
       "      <td>33.7</td>\n",
       "      <td>17.0</td>\n",
       "      <td>720.0</td>\n",
       "      <td>174.0</td>\n",
       "      <td>333.0</td>\n",
       "      <td>117.0</td>\n",
       "      <td>1.7</td>\n",
       "      <td>85.7</td>\n",
       "    </tr>\n",
       "    <tr>\n",
       "      <th>3</th>\n",
       "      <td>-114.6</td>\n",
       "      <td>33.6</td>\n",
       "      <td>14.0</td>\n",
       "      <td>1501.0</td>\n",
       "      <td>337.0</td>\n",
       "      <td>515.0</td>\n",
       "      <td>226.0</td>\n",
       "      <td>3.2</td>\n",
       "      <td>73.4</td>\n",
       "    </tr>\n",
       "    <tr>\n",
       "      <th>4</th>\n",
       "      <td>-114.6</td>\n",
       "      <td>33.6</td>\n",
       "      <td>20.0</td>\n",
       "      <td>1454.0</td>\n",
       "      <td>326.0</td>\n",
       "      <td>624.0</td>\n",
       "      <td>262.0</td>\n",
       "      <td>1.9</td>\n",
       "      <td>65.5</td>\n",
       "    </tr>\n",
       "    <tr>\n",
       "      <th>...</th>\n",
       "      <td>...</td>\n",
       "      <td>...</td>\n",
       "      <td>...</td>\n",
       "      <td>...</td>\n",
       "      <td>...</td>\n",
       "      <td>...</td>\n",
       "      <td>...</td>\n",
       "      <td>...</td>\n",
       "      <td>...</td>\n",
       "    </tr>\n",
       "    <tr>\n",
       "      <th>95</th>\n",
       "      <td>-115.6</td>\n",
       "      <td>32.8</td>\n",
       "      <td>5.0</td>\n",
       "      <td>805.0</td>\n",
       "      <td>143.0</td>\n",
       "      <td>458.0</td>\n",
       "      <td>143.0</td>\n",
       "      <td>4.5</td>\n",
       "      <td>96.3</td>\n",
       "    </tr>\n",
       "    <tr>\n",
       "      <th>96</th>\n",
       "      <td>-115.6</td>\n",
       "      <td>32.8</td>\n",
       "      <td>10.0</td>\n",
       "      <td>1088.0</td>\n",
       "      <td>203.0</td>\n",
       "      <td>533.0</td>\n",
       "      <td>201.0</td>\n",
       "      <td>3.7</td>\n",
       "      <td>87.5</td>\n",
       "    </tr>\n",
       "    <tr>\n",
       "      <th>97</th>\n",
       "      <td>-115.6</td>\n",
       "      <td>32.8</td>\n",
       "      <td>14.0</td>\n",
       "      <td>1687.0</td>\n",
       "      <td>507.0</td>\n",
       "      <td>762.0</td>\n",
       "      <td>451.0</td>\n",
       "      <td>1.7</td>\n",
       "      <td>64.4</td>\n",
       "    </tr>\n",
       "    <tr>\n",
       "      <th>98</th>\n",
       "      <td>-115.6</td>\n",
       "      <td>32.8</td>\n",
       "      <td>5.0</td>\n",
       "      <td>2494.0</td>\n",
       "      <td>414.0</td>\n",
       "      <td>1416.0</td>\n",
       "      <td>421.0</td>\n",
       "      <td>5.8</td>\n",
       "      <td>110.1</td>\n",
       "    </tr>\n",
       "    <tr>\n",
       "      <th>99</th>\n",
       "      <td>-115.6</td>\n",
       "      <td>32.9</td>\n",
       "      <td>20.0</td>\n",
       "      <td>1608.0</td>\n",
       "      <td>274.0</td>\n",
       "      <td>862.0</td>\n",
       "      <td>248.0</td>\n",
       "      <td>4.9</td>\n",
       "      <td>90.8</td>\n",
       "    </tr>\n",
       "  </tbody>\n",
       "</table>\n",
       "<p>100 rows × 9 columns</p>\n",
       "</div>"
      ],
      "text/plain": [
       "    longitude  latitude  housing_median_age  total_rooms  total_bedrooms  \\\n",
       "0      -114.3      34.2                15.0       5612.0          1283.0   \n",
       "1      -114.5      34.4                19.0       7650.0          1901.0   \n",
       "2      -114.6      33.7                17.0        720.0           174.0   \n",
       "3      -114.6      33.6                14.0       1501.0           337.0   \n",
       "4      -114.6      33.6                20.0       1454.0           326.0   \n",
       "..        ...       ...                 ...          ...             ...   \n",
       "95     -115.6      32.8                 5.0        805.0           143.0   \n",
       "96     -115.6      32.8                10.0       1088.0           203.0   \n",
       "97     -115.6      32.8                14.0       1687.0           507.0   \n",
       "98     -115.6      32.8                 5.0       2494.0           414.0   \n",
       "99     -115.6      32.9                20.0       1608.0           274.0   \n",
       "\n",
       "    population  households  median_income  median_house_value  \n",
       "0       1015.0       472.0            1.5                66.9  \n",
       "1       1129.0       463.0            1.8                80.1  \n",
       "2        333.0       117.0            1.7                85.7  \n",
       "3        515.0       226.0            3.2                73.4  \n",
       "4        624.0       262.0            1.9                65.5  \n",
       "..         ...         ...            ...                 ...  \n",
       "95       458.0       143.0            4.5                96.3  \n",
       "96       533.0       201.0            3.7                87.5  \n",
       "97       762.0       451.0            1.7                64.4  \n",
       "98      1416.0       421.0            5.8               110.1  \n",
       "99       862.0       248.0            4.9                90.8  \n",
       "\n",
       "[100 rows x 9 columns]"
      ]
     },
     "execution_count": 9,
     "metadata": {},
     "output_type": "execute_result"
    }
   ],
   "source": [
    "# Write some code in this code cell.\n",
    "train_df.head(n=100)"
   ]
  },
  {
   "cell_type": "code",
   "execution_count": 0,
   "metadata": {
    "cellView": "form",
    "colab": {},
    "colab_type": "code",
    "id": "EnNvkFwwK8WY"
   },
   "outputs": [],
   "source": [
    "#@title Double-click for a possible solution to Task 2.\n",
    "\n",
    "# Examine examples 0 through 4 and examples 25 through 29\n",
    "# of the training set\n",
    "train_df.head(n=1000)\n",
    "\n",
    "# The original training set is sorted by longitude. \n",
    "# Apparently, longitude influences the relationship of\n",
    "# total_rooms to median_house_value."
   ]
  },
  {
   "cell_type": "markdown",
   "metadata": {
    "colab_type": "text",
    "id": "rw4xI1ZEckI8"
   },
   "source": [
    "## Task 3. Fix the problem\n",
    "\n",
    "To fix the problem, shuffle the examples in the training set before splitting the examples into a training set and validation set. To do so, take the following steps:\n",
    "\n",
    "1. Shuffle the data in the training set by adding the following line anywhere before you call `train_model` (in the code cell associated with Task 1):\n",
    "\n",
    "```\n",
    "  shuffled_train_df = train_df.reindex(np.random.permutation(train_df.index))\n",
    "```                                    \n",
    "\n",
    "2. Pass `shuffled_train_df` (instead of `train_df`) as the second argument to `train_model` (in the code call associated with Task 1) so that the call becomes as follows:\n",
    "\n",
    "```\n",
    "  epochs, rmse, history = train_model(my_model, shuffled_train_df, my_feature, \n",
    "                                      my_label, epochs, batch_size, \n",
    "                                      validation_split)\n",
    "```"
   ]
  },
  {
   "cell_type": "code",
   "execution_count": 10,
   "metadata": {
    "cellView": "form",
    "colab": {},
    "colab_type": "code",
    "id": "ncODhpv0h-LG"
   },
   "outputs": [
    {
     "name": "stderr",
     "output_type": "stream",
     "text": [
      "C:\\Pythons\\envs\\mlcc\\lib\\site-packages\\tensorflow\\python\\keras\\optimizer_v2\\optimizer_v2.py:375: UserWarning: The `lr` argument is deprecated, use `learning_rate` instead.\n",
      "  \"The `lr` argument is deprecated, use `learning_rate` instead.\")\n"
     ]
    },
    {
     "name": "stdout",
     "output_type": "stream",
     "text": [
      "Epoch 1/70\n",
      "136/136 [==============================] - 0s 2ms/step - loss: 44381.1562 - root_mean_squared_error: 210.6684 - val_loss: 34417.8945 - val_root_mean_squared_error: 185.5206\n",
      "Epoch 2/70\n",
      "136/136 [==============================] - 0s 1ms/step - loss: 26174.0527 - root_mean_squared_error: 161.7840 - val_loss: 18996.9336 - val_root_mean_squared_error: 137.8294\n",
      "Epoch 3/70\n",
      "136/136 [==============================] - 0s 1ms/step - loss: 14117.6113 - root_mean_squared_error: 118.8176 - val_loss: 9973.0869 - val_root_mean_squared_error: 99.8653\n",
      "Epoch 4/70\n",
      "136/136 [==============================] - 0s 1ms/step - loss: 8120.6089 - root_mean_squared_error: 90.1144 - val_loss: 7026.2480 - val_root_mean_squared_error: 83.8227\n",
      "Epoch 5/70\n",
      "136/136 [==============================] - 0s 1ms/step - loss: 7027.1240 - root_mean_squared_error: 83.8279 - val_loss: 6994.1069 - val_root_mean_squared_error: 83.6308\n",
      "Epoch 6/70\n",
      "136/136 [==============================] - 0s 1ms/step - loss: 7020.7241 - root_mean_squared_error: 83.7898 - val_loss: 6990.9829 - val_root_mean_squared_error: 83.6121\n",
      "Epoch 7/70\n",
      "136/136 [==============================] - 0s 1ms/step - loss: 7020.6807 - root_mean_squared_error: 83.7895 - val_loss: 6991.2812 - val_root_mean_squared_error: 83.6139\n",
      "Epoch 8/70\n",
      "136/136 [==============================] - 0s 988us/step - loss: 7021.4248 - root_mean_squared_error: 83.7939 - val_loss: 6993.7754 - val_root_mean_squared_error: 83.6288\n",
      "Epoch 9/70\n",
      "136/136 [==============================] - 0s 1ms/step - loss: 7020.3052 - root_mean_squared_error: 83.7873 - val_loss: 6990.6641 - val_root_mean_squared_error: 83.6102\n",
      "Epoch 10/70\n",
      "136/136 [==============================] - 0s 1ms/step - loss: 7017.7856 - root_mean_squared_error: 83.7722 - val_loss: 6992.2930 - val_root_mean_squared_error: 83.6199\n",
      "Epoch 11/70\n",
      "136/136 [==============================] - 0s 1ms/step - loss: 7022.4858 - root_mean_squared_error: 83.8003 - val_loss: 6993.0454 - val_root_mean_squared_error: 83.6244\n",
      "Epoch 12/70\n",
      "136/136 [==============================] - 0s 1ms/step - loss: 7020.5615 - root_mean_squared_error: 83.7888 - val_loss: 6993.3022 - val_root_mean_squared_error: 83.6260\n",
      "Epoch 13/70\n",
      "136/136 [==============================] - 0s 1ms/step - loss: 7020.4121 - root_mean_squared_error: 83.7879 - val_loss: 6994.5742 - val_root_mean_squared_error: 83.6336\n",
      "Epoch 14/70\n",
      "136/136 [==============================] - 0s 991us/step - loss: 7019.9033 - root_mean_squared_error: 83.7849 - val_loss: 7001.1743 - val_root_mean_squared_error: 83.6730\n",
      "Epoch 15/70\n",
      "136/136 [==============================] - 0s 1ms/step - loss: 7020.1416 - root_mean_squared_error: 83.7863 - val_loss: 6990.9043 - val_root_mean_squared_error: 83.6116\n",
      "Epoch 16/70\n",
      "136/136 [==============================] - 0s 1ms/step - loss: 7020.9082 - root_mean_squared_error: 83.7909 - val_loss: 6993.6328 - val_root_mean_squared_error: 83.6279\n",
      "Epoch 17/70\n",
      "136/136 [==============================] - 0s 1ms/step - loss: 7020.5654 - root_mean_squared_error: 83.7888 - val_loss: 6991.3931 - val_root_mean_squared_error: 83.6145\n",
      "Epoch 18/70\n",
      "136/136 [==============================] - 0s 1ms/step - loss: 7019.6992 - root_mean_squared_error: 83.7836 - val_loss: 6999.6294 - val_root_mean_squared_error: 83.6638\n",
      "Epoch 19/70\n",
      "136/136 [==============================] - 0s 1ms/step - loss: 7020.4834 - root_mean_squared_error: 83.7883 - val_loss: 6991.3701 - val_root_mean_squared_error: 83.6144\n",
      "Epoch 20/70\n",
      "136/136 [==============================] - 0s 1ms/step - loss: 7020.3784 - root_mean_squared_error: 83.7877 - val_loss: 6992.9463 - val_root_mean_squared_error: 83.6238\n",
      "Epoch 21/70\n",
      "136/136 [==============================] - 0s 1ms/step - loss: 7019.6401 - root_mean_squared_error: 83.7833 - val_loss: 7000.2012 - val_root_mean_squared_error: 83.6672\n",
      "Epoch 22/70\n",
      "136/136 [==============================] - 0s 1ms/step - loss: 7020.3115 - root_mean_squared_error: 83.7873 - val_loss: 6991.7949 - val_root_mean_squared_error: 83.6170\n",
      "Epoch 23/70\n",
      "136/136 [==============================] - 0s 975us/step - loss: 7020.5117 - root_mean_squared_error: 83.7885 - val_loss: 6995.3813 - val_root_mean_squared_error: 83.6384\n",
      "Epoch 24/70\n",
      "136/136 [==============================] - 0s 1ms/step - loss: 7020.1602 - root_mean_squared_error: 83.7864 - val_loss: 6991.5098 - val_root_mean_squared_error: 83.6152\n",
      "Epoch 25/70\n",
      "136/136 [==============================] - 0s 974us/step - loss: 7020.0488 - root_mean_squared_error: 83.7857 - val_loss: 6998.1953 - val_root_mean_squared_error: 83.6552\n",
      "Epoch 26/70\n",
      "136/136 [==============================] - 0s 1ms/step - loss: 7020.0640 - root_mean_squared_error: 83.7858 - val_loss: 6995.5786 - val_root_mean_squared_error: 83.6396\n",
      "Epoch 27/70\n",
      "136/136 [==============================] - 0s 1ms/step - loss: 7019.5161 - root_mean_squared_error: 83.7826 - val_loss: 7001.3813 - val_root_mean_squared_error: 83.6743\n",
      "Epoch 28/70\n",
      "136/136 [==============================] - 0s 1ms/step - loss: 7020.5205 - root_mean_squared_error: 83.7885 - val_loss: 7004.1533 - val_root_mean_squared_error: 83.6908\n",
      "Epoch 29/70\n",
      "136/136 [==============================] - 0s 1ms/step - loss: 7020.7661 - root_mean_squared_error: 83.7900 - val_loss: 7003.9287 - val_root_mean_squared_error: 83.6895\n",
      "Epoch 30/70\n",
      "136/136 [==============================] - 0s 1ms/step - loss: 7018.5938 - root_mean_squared_error: 83.7770 - val_loss: 7003.4600 - val_root_mean_squared_error: 83.6867\n",
      "Epoch 31/70\n",
      "136/136 [==============================] - 0s 1ms/step - loss: 7020.9033 - root_mean_squared_error: 83.7908 - val_loss: 6999.4883 - val_root_mean_squared_error: 83.6629\n",
      "Epoch 32/70\n",
      "136/136 [==============================] - 0s 1ms/step - loss: 7020.3564 - root_mean_squared_error: 83.7876 - val_loss: 6995.1948 - val_root_mean_squared_error: 83.6373\n",
      "Epoch 33/70\n",
      "136/136 [==============================] - 0s 993us/step - loss: 7020.2329 - root_mean_squared_error: 83.7868 - val_loss: 6994.9341 - val_root_mean_squared_error: 83.6357\n",
      "Epoch 34/70\n",
      "136/136 [==============================] - 0s 1ms/step - loss: 7020.7710 - root_mean_squared_error: 83.7900 - val_loss: 6993.9570 - val_root_mean_squared_error: 83.6299\n",
      "Epoch 35/70\n",
      "136/136 [==============================] - 0s 1ms/step - loss: 7019.2236 - root_mean_squared_error: 83.7808 - val_loss: 6996.9263 - val_root_mean_squared_error: 83.6476\n",
      "Epoch 36/70\n",
      "136/136 [==============================] - 0s 952us/step - loss: 7019.9146 - root_mean_squared_error: 83.7849 - val_loss: 6991.0840 - val_root_mean_squared_error: 83.6127\n",
      "Epoch 37/70\n",
      "136/136 [==============================] - 0s 956us/step - loss: 7020.9336 - root_mean_squared_error: 83.7910 - val_loss: 6990.9370 - val_root_mean_squared_error: 83.6118\n",
      "Epoch 38/70\n",
      "136/136 [==============================] - 0s 978us/step - loss: 7020.3276 - root_mean_squared_error: 83.7874 - val_loss: 6997.7119 - val_root_mean_squared_error: 83.6523\n",
      "Epoch 39/70\n",
      "136/136 [==============================] - 0s 945us/step - loss: 7020.4961 - root_mean_squared_error: 83.7884 - val_loss: 6992.3247 - val_root_mean_squared_error: 83.6201\n",
      "Epoch 40/70\n",
      "136/136 [==============================] - 0s 958us/step - loss: 7017.9917 - root_mean_squared_error: 83.7735 - val_loss: 6990.8330 - val_root_mean_squared_error: 83.6112\n",
      "Epoch 41/70\n",
      "136/136 [==============================] - 0s 974us/step - loss: 7020.3853 - root_mean_squared_error: 83.7877 - val_loss: 6992.1123 - val_root_mean_squared_error: 83.6189\n",
      "Epoch 42/70\n",
      "136/136 [==============================] - 0s 999us/step - loss: 7021.0913 - root_mean_squared_error: 83.7920 - val_loss: 6996.4629 - val_root_mean_squared_error: 83.6449\n",
      "Epoch 43/70\n",
      "136/136 [==============================] - 0s 963us/step - loss: 7018.9551 - root_mean_squared_error: 83.7792 - val_loss: 6990.9922 - val_root_mean_squared_error: 83.6122\n",
      "Epoch 44/70\n",
      "136/136 [==============================] - 0s 964us/step - loss: 7020.1470 - root_mean_squared_error: 83.7863 - val_loss: 6991.1157 - val_root_mean_squared_error: 83.6129\n",
      "Epoch 45/70\n",
      "136/136 [==============================] - 0s 939us/step - loss: 7020.3774 - root_mean_squared_error: 83.7877 - val_loss: 6999.2100 - val_root_mean_squared_error: 83.6613\n",
      "Epoch 46/70\n"
     ]
    },
    {
     "name": "stdout",
     "output_type": "stream",
     "text": [
      "136/136 [==============================] - 0s 962us/step - loss: 7021.1514 - root_mean_squared_error: 83.7923 - val_loss: 6997.4312 - val_root_mean_squared_error: 83.6507\n",
      "Epoch 47/70\n",
      "136/136 [==============================] - 0s 966us/step - loss: 7019.5728 - root_mean_squared_error: 83.7829 - val_loss: 6996.0483 - val_root_mean_squared_error: 83.6424\n",
      "Epoch 48/70\n",
      "136/136 [==============================] - 0s 970us/step - loss: 7020.1948 - root_mean_squared_error: 83.7866 - val_loss: 6992.9385 - val_root_mean_squared_error: 83.6238\n",
      "Epoch 49/70\n",
      "136/136 [==============================] - 0s 927us/step - loss: 7019.7607 - root_mean_squared_error: 83.7840 - val_loss: 6993.4888 - val_root_mean_squared_error: 83.6271\n",
      "Epoch 50/70\n",
      "136/136 [==============================] - 0s 957us/step - loss: 7018.5337 - root_mean_squared_error: 83.7767 - val_loss: 6991.0249 - val_root_mean_squared_error: 83.6124\n",
      "Epoch 51/70\n",
      "136/136 [==============================] - 0s 973us/step - loss: 7020.1689 - root_mean_squared_error: 83.7864 - val_loss: 6995.1245 - val_root_mean_squared_error: 83.6369\n",
      "Epoch 52/70\n",
      "136/136 [==============================] - 0s 966us/step - loss: 7019.6152 - root_mean_squared_error: 83.7831 - val_loss: 7001.9907 - val_root_mean_squared_error: 83.6779\n",
      "Epoch 53/70\n",
      "136/136 [==============================] - 0s 956us/step - loss: 7018.8418 - root_mean_squared_error: 83.7785 - val_loss: 6990.8931 - val_root_mean_squared_error: 83.6116\n",
      "Epoch 54/70\n",
      "136/136 [==============================] - 0s 958us/step - loss: 7019.2720 - root_mean_squared_error: 83.7811 - val_loss: 6998.6240 - val_root_mean_squared_error: 83.6578\n",
      "Epoch 55/70\n",
      "136/136 [==============================] - 0s 957us/step - loss: 7019.7432 - root_mean_squared_error: 83.7839 - val_loss: 6994.7383 - val_root_mean_squared_error: 83.6346\n",
      "Epoch 56/70\n",
      "136/136 [==============================] - 0s 918us/step - loss: 7019.7900 - root_mean_squared_error: 83.7842 - val_loss: 6994.6528 - val_root_mean_squared_error: 83.6340\n",
      "Epoch 57/70\n",
      "136/136 [==============================] - 0s 881us/step - loss: 7020.7998 - root_mean_squared_error: 83.7902 - val_loss: 6992.1494 - val_root_mean_squared_error: 83.6191\n",
      "Epoch 58/70\n",
      "136/136 [==============================] - 0s 888us/step - loss: 7019.3696 - root_mean_squared_error: 83.7817 - val_loss: 6994.7720 - val_root_mean_squared_error: 83.6348\n",
      "Epoch 59/70\n",
      "136/136 [==============================] - 0s 866us/step - loss: 7017.7749 - root_mean_squared_error: 83.7722 - val_loss: 6991.5977 - val_root_mean_squared_error: 83.6158\n",
      "Epoch 60/70\n",
      "136/136 [==============================] - 0s 892us/step - loss: 7020.5947 - root_mean_squared_error: 83.7890 - val_loss: 6992.5312 - val_root_mean_squared_error: 83.6214\n",
      "Epoch 61/70\n",
      "136/136 [==============================] - 0s 974us/step - loss: 7020.9692 - root_mean_squared_error: 83.7912 - val_loss: 6994.7153 - val_root_mean_squared_error: 83.6344\n",
      "Epoch 62/70\n",
      "136/136 [==============================] - 0s 946us/step - loss: 7020.1919 - root_mean_squared_error: 83.7866 - val_loss: 6999.8589 - val_root_mean_squared_error: 83.6652\n",
      "Epoch 63/70\n",
      "136/136 [==============================] - 0s 959us/step - loss: 7020.1899 - root_mean_squared_error: 83.7866 - val_loss: 6996.2749 - val_root_mean_squared_error: 83.6437\n",
      "Epoch 64/70\n",
      "136/136 [==============================] - 0s 946us/step - loss: 7018.4351 - root_mean_squared_error: 83.7761 - val_loss: 7001.5830 - val_root_mean_squared_error: 83.6755\n",
      "Epoch 65/70\n",
      "136/136 [==============================] - 0s 969us/step - loss: 7020.4375 - root_mean_squared_error: 83.7880 - val_loss: 6992.7993 - val_root_mean_squared_error: 83.6230\n",
      "Epoch 66/70\n",
      "136/136 [==============================] - 0s 916us/step - loss: 7020.6025 - root_mean_squared_error: 83.7890 - val_loss: 6992.1816 - val_root_mean_squared_error: 83.6193\n",
      "Epoch 67/70\n",
      "136/136 [==============================] - 0s 941us/step - loss: 7021.3276 - root_mean_squared_error: 83.7934 - val_loss: 6992.9941 - val_root_mean_squared_error: 83.6241\n",
      "Epoch 68/70\n",
      "136/136 [==============================] - 0s 978us/step - loss: 7020.5239 - root_mean_squared_error: 83.7886 - val_loss: 6994.3545 - val_root_mean_squared_error: 83.6323\n",
      "Epoch 69/70\n",
      "136/136 [==============================] - 0s 998us/step - loss: 7018.8169 - root_mean_squared_error: 83.7784 - val_loss: 7002.6167 - val_root_mean_squared_error: 83.6816\n",
      "Epoch 70/70\n",
      "136/136 [==============================] - 0s 1ms/step - loss: 7020.2368 - root_mean_squared_error: 83.7868 - val_loss: 7002.5908 - val_root_mean_squared_error: 83.6815\n",
      "78.17377471923828\n"
     ]
    },
    {
     "data": {
      "image/png": "[encoded data removed]",
      "text/plain": [
       "<Figure size 432x288 with 1 Axes>"
      ]
     },
     "metadata": {
      "needs_background": "light"
     },
     "output_type": "display_data"
    }
   ],
   "source": [
    "#@title Double-click to view the complete implementation.\n",
    "\n",
    "# The following variables are the hyperparameters.\n",
    "learning_rate = 0.08\n",
    "epochs = 70\n",
    "batch_size = 100\n",
    "\n",
    "# Split the original training set into a reduced training set and a\n",
    "# validation set. \n",
    "validation_split=0.2\n",
    "\n",
    "# Identify the feature and the label.\n",
    "my_feature=\"median_income\"  # the median income on a specific city block.\n",
    "my_label=\"median_house_value\" # the median value of a house on a specific city block.\n",
    "# That is, you're going to create a model that predicts house value based \n",
    "# solely on the neighborhood's median income.  \n",
    "\n",
    "# Discard any pre-existing version of the model.\n",
    "my_model = None\n",
    "\n",
    "# Shuffle the examples.\n",
    "shuffled_train_df = train_df.reindex(np.random.permutation(train_df.index)) \n",
    "\n",
    "# Invoke the functions to build and train the model. Train on the shuffled\n",
    "# training set.\n",
    "my_model = build_model(learning_rate)\n",
    "epochs, rmse, history = train_model(my_model, shuffled_train_df, my_feature, \n",
    "                                    my_label, epochs, batch_size, \n",
    "                                    validation_split)\n",
    "\n",
    "plot_the_loss_curve(epochs, history[\"root_mean_squared_error\"], \n",
    "                    history[\"val_root_mean_squared_error\"])"
   ]
  },
  {
   "cell_type": "markdown",
   "metadata": {
    "colab_type": "text",
    "id": "tKN239_miW8C"
   },
   "source": [
    "Experiment with `validation_split` to answer the following questions:\n",
    "\n",
    "* With the training set shuffled, is the final loss for the training set closer to the final loss for the validation set?  \n",
    "* At what range of values of `validation_split` do the final loss values for the training set and validation set diverge meaningfully?  Why?"
   ]
  },
  {
   "cell_type": "code",
   "execution_count": 0,
   "metadata": {
    "cellView": "form",
    "colab": {},
    "colab_type": "code",
    "id": "-UAJ3Q86iz31"
   },
   "outputs": [],
   "source": [
    "#@title Double-click for the answers to the questions\n",
    "\n",
    "# Yes, after shuffling the original training set, \n",
    "# the final loss for the training set and the \n",
    "# validation set become much closer.\n",
    "\n",
    "# If validation_split < 0.15,\n",
    "# the final loss values for the training set and\n",
    "# validation set diverge meaningfully.  Apparently,\n",
    "# the validation set no longer contains enough examples. "
   ]
  },
  {
   "cell_type": "markdown",
   "metadata": {
    "colab_type": "text",
    "id": "1PP-O8TOZOeo"
   },
   "source": [
    "## Task 4: Use the Test Dataset to Evaluate Your Model's Performance\n",
    "\n",
    "The test set usually acts as the ultimate judge of a model's quality. The test set can serve as an impartial judge because its examples haven't been used in training the model. Run the following code cell to evaluate the model with the test set:"
   ]
  },
  {
   "cell_type": "code",
   "execution_count": 11,
   "metadata": {
    "colab": {},
    "colab_type": "code",
    "id": "nd_Sw2cygOip"
   },
   "outputs": [
    {
     "name": "stdout",
     "output_type": "stream",
     "text": [
      "30/30 [==============================] - 0s 724us/step - loss: 7013.5420 - root_mean_squared_error: 83.7469\n"
     ]
    }
   ],
   "source": [
    "x_test = test_df[my_feature]\n",
    "y_test = test_df[my_label]\n",
    "\n",
    "results = my_model.evaluate(x_test, y_test, batch_size=batch_size)"
   ]
  },
  {
   "cell_type": "markdown",
   "metadata": {
    "colab_type": "text",
    "id": "qoyQKvsjmV_A"
   },
   "source": [
    "Compare the root mean squared error of the model when evaluated on each of the three datasets:\n",
    "\n",
    "* training set: look for `root_mean_squared_error` in the final training epoch.\n",
    "* validation set: look for `val_root_mean_squared_error` in the final training epoch.\n",
    "* test set: run the preceding code cell and examine the `root_mean_squred_error`.\n",
    "\n",
    "Ideally, the root mean squared error of all three sets should be similar. Are they?"
   ]
  },
  {
   "cell_type": "code",
   "execution_count": 0,
   "metadata": {
    "cellView": "form",
    "colab": {},
    "colab_type": "code",
    "id": "FxXtp-aVdIgJ"
   },
   "outputs": [],
   "source": [
    "#@title Double-click for an answer\n",
    "\n",
    "# In our experiments, yes, the rmse values \n",
    "# were similar enough. "
   ]
  }
 ],
 "metadata": {
  "colab": {
   "collapsed_sections": [],
   "name": "Validation and Test Sets.ipynb",
   "private_outputs": true,
   "provenance": []
  },
  "kernelspec": {
   "display_name": "Python 3.6 (tensorflow)",
   "language": "python",
   "name": "mlcc"
  },
  "language_info": {
   "codemirror_mode": {
    "name": "ipython",
    "version": 3
   },
   "file_extension": ".py",
   "mimetype": "text/x-python",
   "name": "python",
   "nbconvert_exporter": "python",
   "pygments_lexer": "ipython3",
   "version": "3.6.13"
  }
 },
 "nbformat": 4,
 "nbformat_minor": 1
}
