{
 "cells": [
  {
   "cell_type": "markdown",
   "id": "81c24858",
   "metadata": {},
   "source": [
    "# Sandbox\n",
    "Just to experiment with different things"
   ]
  },
  {
   "cell_type": "code",
   "execution_count": 2,
   "id": "2bb04ee8",
   "metadata": {},
   "outputs": [
    {
     "name": "stdout",
     "output_type": "stream",
     "text": [
      "\n",
      "     active environment : mlcc\n",
      "    active env location : C:\\Pythons\\envs\\mlcc\n",
      "            shell level : 1\n",
      "       user config file : C:\\Users\\Ian's\\.condarc\n",
      " populated config files : C:\\Users\\Ian's\\.condarc\n",
      "          conda version : 4.10.1\n",
      "    conda-build version : not installed\n",
      "         python version : 3.6.12.final.0\n",
      "       virtual packages : __cuda=10.1=0\n",
      "                          __win=0=0\n",
      "                          __archspec=1=x86_64\n",
      "       base environment : C:\\Pythons  (writable)\n",
      "      conda av data dir : C:\\Pythons\\etc\\conda\n",
      "  conda av metadata url : https://repo.anaconda.com/pkgs/main\n",
      "           channel URLs : https://conda.anaconda.org/anaconda-fusion/win-64\n",
      "                          https://conda.anaconda.org/anaconda-fusion/noarch\n",
      "                          https://repo.anaconda.com/pkgs/main/win-64\n",
      "                          https://repo.anaconda.com/pkgs/main/noarch\n",
      "                          https://repo.anaconda.com/pkgs/r/win-64\n",
      "                          https://repo.anaconda.com/pkgs/r/noarch\n",
      "                          https://repo.anaconda.com/pkgs/msys2/win-64\n",
      "                          https://repo.anaconda.com/pkgs/msys2/noarch\n",
      "          package cache : C:\\Pythons\\pkgs\n",
      "                          C:\\Users\\Ian's\\.conda\\pkgs\n",
      "                          C:\\Users\\Ian's\\AppData\\Local\\conda\\conda\\pkgs\n",
      "       envs directories : C:\\Pythons\\envs\n",
      "                          C:\\Users\\Ian's\\.conda\\envs\n",
      "                          C:\\Users\\Ian's\\AppData\\Local\\conda\\conda\\envs\n",
      "               platform : win-64\n",
      "             user-agent : conda/4.10.1 requests/2.25.1 CPython/3.6.12 Windows/10 Windows/10.0.19041\n",
      "          administrator : False\n",
      "             netrc file : None\n",
      "           offline mode : False\n",
      "\n"
     ]
    }
   ],
   "source": [
    "!conda info"
   ]
  },
  {
   "cell_type": "code",
   "execution_count": 7,
   "id": "2a502815",
   "metadata": {},
   "outputs": [
    {
     "name": "stdout",
     "output_type": "stream",
     "text": [
      "3.6.12\n"
     ]
    }
   ],
   "source": [
    "import platform\n",
    "print(platform.python_version())"
   ]
  }
 ],
 "metadata": {
  "kernelspec": {
   "display_name": "Python 3",
   "language": "python",
   "name": "python3"
  },
  "language_info": {
   "codemirror_mode": {
    "name": "ipython",
    "version": 3
   },
   "file_extension": ".py",
   "mimetype": "text/x-python",
   "name": "python",
   "nbconvert_exporter": "python",
   "pygments_lexer": "ipython3",
   "version": "3.6.12"
  }
 },
 "nbformat": 4,
 "nbformat_minor": 5
}
